{
 "cells": [
  {
   "cell_type": "code",
   "execution_count": 30,
   "metadata": {},
   "outputs": [
    {
     "output_type": "stream",
     "name": "stdout",
     "text": [
      "The autoreload extension is already loaded. To reload it, use:\n  %reload_ext autoreload\n"
     ]
    }
   ],
   "source": [
    "from random import shuffle\n",
    "import glob\n",
    "import pandas as pd\n",
    "import numpy as np\n",
    "\n",
    "import time\n",
    "import h5py\n",
    "import matplotlib.pyplot as plt\n",
    "import scipy\n",
    "from PIL import Image\n",
    "from scipy import ndimage\n",
    "#from dnn_app_utils_v3 import *\n",
    "import cv2\n",
    "\n",
    "%matplotlib inline\n",
    "plt.rcParams['figure.figsize'] = (5.0, 4.0) # set default size of plots\n",
    "plt.rcParams['image.interpolation'] = 'nearest'\n",
    "plt.rcParams['image.cmap'] = 'gray'\n",
    "\n",
    "%load_ext autoreload\n",
    "%autoreload 2\n",
    "\n",
    "np.random.seed(1)\n",
    "\n",
    "# This file is used to create an H5 pile that contains the images and labels of 0 and 1 for each image. \n",
    "# This was performed by loading in the metadata with labels and using that as the \"labels\" variable"
   ]
  },
  {
   "cell_type": "code",
   "execution_count": 31,
   "metadata": {},
   "outputs": [],
   "source": [
    "shuffle_data = True #shuffles\n",
    "hdf5_path = 'C:/Users/Abo_Alon/Desktop/machine/Final Project/dataset_small.h5'"
   ]
  },
  {
   "cell_type": "code",
   "execution_count": 32,
   "metadata": {},
   "outputs": [],
   "source": [
    "images_path = 'C:/Users/Abo_Alon/Desktop/machine/Final Project/images/*.jpg'\n",
    "metadata = pd.read_csv('C:/Users/Abo_Alon/Desktop/machine/Final Project/images/metadata.csv')"
   ]
  },
  {
   "cell_type": "code",
   "execution_count": 33,
   "metadata": {},
   "outputs": [
    {
     "output_type": "stream",
     "name": "stdout",
     "text": [
      "                        _id          name  meta.clinical.age_approx  \\\n0  5aaf12491165976913627e89  ISIC_0024306                      45.0   \n1  5aaf12491165976913627e95  ISIC_0024307                      50.0   \n2  5aaf12491165976913627ea0  ISIC_0024308                      55.0   \n3  5aaf12491165976913627eab  ISIC_0024309                      40.0   \n4  5aaf12491165976913627eb6  ISIC_0024310                      60.0   \n\n  meta.clinical.anatom_site_general meta.clinical.benign_malignant  \\\n0                               NaN                         benign   \n1                   lower extremity                         benign   \n2                               NaN                         benign   \n3                               NaN                         benign   \n4                    anterior torso                      malignant   \n\n   meta.clinical.clin_size_long_diam_mm meta.clinical.diagnosis  \\\n0                                   NaN                   nevus   \n1                                   NaN                   nevus   \n2                                   NaN                   nevus   \n3                                   NaN                   nevus   \n4                                   NaN                melanoma   \n\n  meta.clinical.diagnosis_confirm_type  meta.clinical.family_hx_mm  \\\n0     serial imaging showing no change                         NaN   \n1     serial imaging showing no change                         NaN   \n2     serial imaging showing no change                         NaN   \n3     serial imaging showing no change                         NaN   \n4                       histopathology                         NaN   \n\n   meta.clinical.lesion_id  ...  meta.clinical.sex  \\\n0                      NaN  ...               male   \n1                      NaN  ...               male   \n2                      NaN  ...             female   \n3                      NaN  ...               male   \n4                      NaN  ...               male   \n\n   meta.acquisition.acquisition_day  meta.acquisition.blurry  \\\n0                               NaN                      NaN   \n1                               NaN                      NaN   \n2                               NaN                      NaN   \n3                               NaN                      NaN   \n4                               NaN                      NaN   \n\n   meta.acquisition.color_tint  meta.acquisition.dermoscopic_type  \\\n0                          NaN                                NaN   \n1                          NaN                                NaN   \n2                          NaN                                NaN   \n3                          NaN                                NaN   \n4                          NaN                                NaN   \n\n   meta.acquisition.hairy  meta.acquisition.image_type  \\\n0                     NaN                  dermoscopic   \n1                     NaN                  dermoscopic   \n2                     NaN                  dermoscopic   \n3                     NaN                  dermoscopic   \n4                     NaN                  dermoscopic   \n\n   meta.acquisition.marker_pen  meta.acquisition.pixelsX  \\\n0                          NaN                       600   \n1                          NaN                       600   \n2                          NaN                       600   \n3                          NaN                       600   \n4                          NaN                       600   \n\n  meta.acquisition.pixelsY  \n0                      450  \n1                      450  \n2                      450  \n3                      450  \n4                      450  \n\n[5 rows x 29 columns]\nmalignant\n"
     ]
    }
   ],
   "source": [
    "addrs = glob.glob(images_path)\n",
    "print(metadata.head())\n",
    "print(metadata['meta.clinical.benign_malignant'][4])\n"
   ]
  },
  {
   "cell_type": "code",
   "execution_count": 34,
   "metadata": {},
   "outputs": [
    {
     "output_type": "stream",
     "name": "stdout",
     "text": [
      "[0, 0, 0, 0, 1, 0, 0]\n"
     ]
    }
   ],
   "source": [
    "#Here we create the benign and malignant labels from the metadata probably dont need to do this and we can just use the metadata CSV\n",
    "benign_mal_labels = []\n",
    "image_name = []\n",
    "labels = []\n",
    "j = 0\n",
    "#for index in metadata.index:\n",
    "while j <= 6: \n",
    "    #if 'malignant' == metadata['meta.clinical.benign_malignant'][index]:\n",
    "    if 'malignant' == metadata['meta.clinical.benign_malignant'][j]:\n",
    "        labels.append(1)\n",
    "        image_name.append(metadata['name'][j])\n",
    "        benign_mal_labels.append(metadata['meta.clinical.benign_malignant'][j])\n",
    "        j = j + 1\n",
    "    else:\n",
    "        labels.append(0)\n",
    "        image_name.append(metadata['name'][j])\n",
    "        benign_mal_labels.append(metadata['meta.clinical.benign_malignant'][j])\n",
    "        j = j + 1\n",
    "\n",
    "print(labels)\n",
    "\n"
   ]
  },
  {
   "cell_type": "code",
   "execution_count": 35,
   "metadata": {},
   "outputs": [
    {
     "output_type": "stream",
     "name": "stdout",
     "text": [
      "              0\nISIC_0024306  0\nISIC_0024307  0\nISIC_0024308  0\nISIC_0024309  0\nISIC_0024310  1\n"
     ]
    }
   ],
   "source": [
    "df_labels = pd.DataFrame(labels, index = image_name)\n",
    "df_benign_mal_labels = pd.DataFrame(benign_mal_labels)\n",
    "df_image_name = pd.DataFrame(image_name)\n",
    "print(df_labels.head())\n"
   ]
  },
  {
   "cell_type": "code",
   "execution_count": 36,
   "metadata": {},
   "outputs": [],
   "source": [
    "if shuffle_data:\n",
    "    c = list(zip(addrs,labels)) # use zip() to bind the images and labels together\n",
    "    shuffle(c)\n",
    " \n",
    "    (addrs,labels) = zip(*c)  # *c is used to separate all the tuples in the list c,  \n",
    "                               # \"addrs\" then contains all the shuffled paths and \n",
    "                               # \"labels\" contains all the shuffled labels.\n",
    "  "
   ]
  },
  {
   "cell_type": "code",
   "execution_count": null,
   "metadata": {},
   "outputs": [],
   "source": [
    "train_addrs = addrs[0:int(0.8*len(addrs))]\n",
    "train_labels = labels[0:int(0.8*len(labels))]\n",
    "\n",
    "\n",
    "test_addrs = addrs[int(0.8*len(addrs)):]\n",
    "test_labels = labels[int(0.8*len(labels)):]"
   ]
  },
  {
   "cell_type": "code",
   "execution_count": 37,
   "metadata": {},
   "outputs": [],
   "source": [
    "train_shape = (len(train_addrs), 128, 128, 3)\n",
    "test_shape = (len(test_addrs), 128, 128, 3)\n",
    "\n",
    "# open a hdf5 file and create arrays \n",
    "f = h5py.File(hdf5_path, mode='w')\n",
    "\n",
    "# PIL.Image: the pixels range is 0-255,dtype is uint.\n",
    "# matplotlib: the pixels range is 0-1,dtype is float.\n",
    "f.create_dataset(\"train_img\", train_shape, np.uint8)\n",
    "f.create_dataset(\"test_img\", test_shape, np.uint8)  \n",
    "\n",
    "# the \".create_dataset\" object is like a dictionary, the \"train_labels\" is the key. \n",
    "f.create_dataset(\"train_labels\", (len(train_addrs),), np.uint8)\n",
    "f[\"train_labels\"][...] = train_labels\n",
    "\n",
    "f.create_dataset(\"test_labels\", (len(test_addrs),), np.uint8)\n",
    "f[\"test_labels\"][...] = test_labels"
   ]
  },
  {
   "cell_type": "code",
   "execution_count": 38,
   "metadata": {},
   "outputs": [],
   "source": [
    "# JOSE: Could not figure out how to resize for a different size that 128 pixels. If one of you guys can try that please\n",
    "# loop over train paths\n",
    "for i in range(len(train_addrs)):\n",
    "  \n",
    "    if i % 1000 == 0 and i > 1:\n",
    "        print ('Train data: {}/{}'.format(i, len(train_addrs)) )\n",
    "\n",
    "    addr = train_addrs[i]\n",
    "    img = cv2.imread(addr)\n",
    "    img = cv2.resize(img, (128, 128), interpolation=cv2.INTER_CUBIC)# resize to (128,128)\n",
    "    img = cv2.cvtColor(img, cv2.COLOR_BGR2RGB) # cv2 load images as BGR, convert it to RGB\n",
    "    f[\"train_img\"][i, ...] = img[None] \n",
    "\n",
    "# loop over test paths\n",
    "for i in range(len(test_addrs)):\n",
    "\n",
    "    if i % 1000 == 0 and i > 1:\n",
    "        print ('Test data: {}/{}'.format(i, len(test_addrs)) )\n",
    "\n",
    "    addr = test_addrs[i]\n",
    "    img = cv2.imread(addr)\n",
    "    img = cv2.resize(img, (128, 128), interpolation=cv2.INTER_CUBIC)\n",
    "    img = cv2.cvtColor(img, cv2.COLOR_BGR2RGB)\n",
    "    f[\"test_img\"][i, ...] = img[None]\n",
    "\n",
    "f.close()"
   ]
  },
  {
   "cell_type": "code",
   "execution_count": 39,
   "metadata": {},
   "outputs": [
    {
     "output_type": "stream",
     "name": "stdout",
     "text": [
      "C:/Users/Abo_Alon/Desktop/machine/Final Project/images\\ISIC_0024307.jpg\n"
     ]
    }
   ],
   "source": [
    "print(addrs[1])"
   ]
  },
  {
   "cell_type": "code",
   "execution_count": 40,
   "metadata": {},
   "outputs": [],
   "source": [
    "def DHL(addrs):\n",
    " for x in addrs:\n",
    "  src = cv2.imread(x)\n",
    "  grayScale = cv2.cvtColor( src, cv2.COLOR_BGR2GRAY )\n",
    "  kernel = cv2.getStructuringElement(1,(17,17))\n",
    "  blackhat = cv2.morphologyEx(grayScale, cv2.MORPH_BLACKHAT, kernel)\n",
    "  ret,thresh2 = cv2.threshold(blackhat,10,255,cv2.THRESH_BINARY)\n",
    "  dst = cv2.inpaint(src,thresh2,1,cv2.INPAINT_TELEA)\n",
    "  cv2.imwrite(x, dst, [int(cv2.IMWRITE_JPEG_QUALITY), 90])"
   ]
  },
  {
   "cell_type": "code",
   "execution_count": 41,
   "metadata": {},
   "outputs": [],
   "source": [
    "DHL((\"C:/Users/Abo_Alon/Desktop/machine/Final Project/ISIC_0024320.jpg\",))"
   ]
  },
  {
   "cell_type": "code",
   "execution_count": null,
   "metadata": {},
   "outputs": [],
   "source": []
  }
 ],
 "metadata": {
  "kernelspec": {
   "display_name": "Python 3.8.3 64-bit (conda)",
   "language": "python",
   "name": "python38364bitcondacc4a1c512b69456687bcab0e9d296d7e"
  },
  "language_info": {
   "codemirror_mode": {
    "name": "ipython",
    "version": 3
   },
   "file_extension": ".py",
   "mimetype": "text/x-python",
   "name": "python",
   "nbconvert_exporter": "python",
   "pygments_lexer": "ipython3",
   "version": "3.8.3-final"
  }
 },
 "nbformat": 4,
 "nbformat_minor": 4
}